{
  "cells": [
    {
      "cell_type": "markdown",
      "metadata": {
        "id": "view-in-github",
        "colab_type": "text"
      },
      "source": [
        "<a href=\"https://colab.research.google.com/github/Yassineka99/Alsabah_News_Scraping/blob/main/scraping_sabah_news.ipynb\" target=\"_parent\"><img src=\"https://colab.research.google.com/assets/colab-badge.svg\" alt=\"Open In Colab\"/></a>"
      ]
    },
    {
      "cell_type": "code",
      "execution_count": null,
      "metadata": {
        "id": "oP5uwPOndRN_",
        "colab": {
          "base_uri": "https://localhost:8080/"
        },
        "outputId": "8e6df92e-b041-41d1-da69-3abd724ec2a7"
      },
      "outputs": [
        {
          "output_type": "stream",
          "name": "stdout",
          "text": [
            "Collecting scrapy\n",
            "  Downloading Scrapy-2.11.1-py2.py3-none-any.whl (287 kB)\n",
            "\u001b[2K     \u001b[90m━━━━━━━━━━━━━━━━━━━━━━━━━━━━━━━━━━━━━━━━\u001b[0m \u001b[32m287.8/287.8 kB\u001b[0m \u001b[31m5.3 MB/s\u001b[0m eta \u001b[36m0:00:00\u001b[0m\n",
            "\u001b[?25hCollecting Twisted>=18.9.0 (from scrapy)\n",
            "  Downloading twisted-23.10.0-py3-none-any.whl (3.2 MB)\n",
            "\u001b[2K     \u001b[90m━━━━━━━━━━━━━━━━━━━━━━━━━━━━━━━━━━━━━━━━\u001b[0m \u001b[32m3.2/3.2 MB\u001b[0m \u001b[31m14.1 MB/s\u001b[0m eta \u001b[36m0:00:00\u001b[0m\n",
            "\u001b[?25hRequirement already satisfied: cryptography>=36.0.0 in /usr/local/lib/python3.10/dist-packages (from scrapy) (42.0.2)\n",
            "Collecting cssselect>=0.9.1 (from scrapy)\n",
            "  Downloading cssselect-1.2.0-py2.py3-none-any.whl (18 kB)\n",
            "Collecting itemloaders>=1.0.1 (from scrapy)\n",
            "  Downloading itemloaders-1.1.0-py3-none-any.whl (11 kB)\n",
            "Collecting parsel>=1.5.0 (from scrapy)\n",
            "  Downloading parsel-1.8.1-py2.py3-none-any.whl (17 kB)\n",
            "Requirement already satisfied: pyOpenSSL>=21.0.0 in /usr/local/lib/python3.10/dist-packages (from scrapy) (24.0.0)\n",
            "Collecting queuelib>=1.4.2 (from scrapy)\n",
            "  Downloading queuelib-1.6.2-py2.py3-none-any.whl (13 kB)\n",
            "Collecting service-identity>=18.1.0 (from scrapy)\n",
            "  Downloading service_identity-24.1.0-py3-none-any.whl (12 kB)\n",
            "Collecting w3lib>=1.17.0 (from scrapy)\n",
            "  Downloading w3lib-2.1.2-py3-none-any.whl (21 kB)\n",
            "Collecting zope.interface>=5.1.0 (from scrapy)\n",
            "  Downloading zope.interface-6.2-cp310-cp310-manylinux_2_5_x86_64.manylinux1_x86_64.manylinux_2_17_x86_64.manylinux2014_x86_64.whl (247 kB)\n",
            "\u001b[2K     \u001b[90m━━━━━━━━━━━━━━━━━━━━━━━━━━━━━━━━━━━━━━━━\u001b[0m \u001b[32m247.3/247.3 kB\u001b[0m \u001b[31m15.9 MB/s\u001b[0m eta \u001b[36m0:00:00\u001b[0m\n",
            "\u001b[?25hCollecting protego>=0.1.15 (from scrapy)\n",
            "  Downloading Protego-0.3.0-py2.py3-none-any.whl (8.5 kB)\n",
            "Collecting itemadapter>=0.1.0 (from scrapy)\n",
            "  Downloading itemadapter-0.8.0-py3-none-any.whl (11 kB)\n",
            "Requirement already satisfied: setuptools in /usr/local/lib/python3.10/dist-packages (from scrapy) (67.7.2)\n",
            "Requirement already satisfied: packaging in /usr/local/lib/python3.10/dist-packages (from scrapy) (23.2)\n",
            "Collecting tldextract (from scrapy)\n",
            "  Downloading tldextract-5.1.1-py3-none-any.whl (97 kB)\n",
            "\u001b[2K     \u001b[90m━━━━━━━━━━━━━━━━━━━━━━━━━━━━━━━━━━━━━━━━\u001b[0m \u001b[32m97.7/97.7 kB\u001b[0m \u001b[31m8.0 MB/s\u001b[0m eta \u001b[36m0:00:00\u001b[0m\n",
            "\u001b[?25hRequirement already satisfied: lxml>=4.4.1 in /usr/local/lib/python3.10/dist-packages (from scrapy) (4.9.4)\n",
            "Collecting PyDispatcher>=2.0.5 (from scrapy)\n",
            "  Downloading PyDispatcher-2.0.7-py3-none-any.whl (12 kB)\n",
            "Requirement already satisfied: cffi>=1.12 in /usr/local/lib/python3.10/dist-packages (from cryptography>=36.0.0->scrapy) (1.16.0)\n",
            "Collecting jmespath>=0.9.5 (from itemloaders>=1.0.1->scrapy)\n",
            "  Downloading jmespath-1.0.1-py3-none-any.whl (20 kB)\n",
            "Requirement already satisfied: attrs>=19.1.0 in /usr/local/lib/python3.10/dist-packages (from service-identity>=18.1.0->scrapy) (23.2.0)\n",
            "Requirement already satisfied: pyasn1 in /usr/local/lib/python3.10/dist-packages (from service-identity>=18.1.0->scrapy) (0.5.1)\n",
            "Requirement already satisfied: pyasn1-modules in /usr/local/lib/python3.10/dist-packages (from service-identity>=18.1.0->scrapy) (0.3.0)\n",
            "Collecting automat>=0.8.0 (from Twisted>=18.9.0->scrapy)\n",
            "  Downloading Automat-22.10.0-py2.py3-none-any.whl (26 kB)\n",
            "Collecting constantly>=15.1 (from Twisted>=18.9.0->scrapy)\n",
            "  Downloading constantly-23.10.4-py3-none-any.whl (13 kB)\n",
            "Collecting hyperlink>=17.1.1 (from Twisted>=18.9.0->scrapy)\n",
            "  Downloading hyperlink-21.0.0-py2.py3-none-any.whl (74 kB)\n",
            "\u001b[2K     \u001b[90m━━━━━━━━━━━━━━━━━━━━━━━━━━━━━━━━━━━━━━━━\u001b[0m \u001b[32m74.6/74.6 kB\u001b[0m \u001b[31m6.3 MB/s\u001b[0m eta \u001b[36m0:00:00\u001b[0m\n",
            "\u001b[?25hCollecting incremental>=22.10.0 (from Twisted>=18.9.0->scrapy)\n",
            "  Downloading incremental-22.10.0-py2.py3-none-any.whl (16 kB)\n",
            "Requirement already satisfied: typing-extensions>=4.2.0 in /usr/local/lib/python3.10/dist-packages (from Twisted>=18.9.0->scrapy) (4.9.0)\n",
            "Requirement already satisfied: idna in /usr/local/lib/python3.10/dist-packages (from tldextract->scrapy) (3.6)\n",
            "Requirement already satisfied: requests>=2.1.0 in /usr/local/lib/python3.10/dist-packages (from tldextract->scrapy) (2.31.0)\n",
            "Collecting requests-file>=1.4 (from tldextract->scrapy)\n",
            "  Downloading requests_file-2.0.0-py2.py3-none-any.whl (4.2 kB)\n",
            "Requirement already satisfied: filelock>=3.0.8 in /usr/local/lib/python3.10/dist-packages (from tldextract->scrapy) (3.13.1)\n",
            "Requirement already satisfied: six in /usr/local/lib/python3.10/dist-packages (from automat>=0.8.0->Twisted>=18.9.0->scrapy) (1.16.0)\n",
            "Requirement already satisfied: pycparser in /usr/local/lib/python3.10/dist-packages (from cffi>=1.12->cryptography>=36.0.0->scrapy) (2.21)\n",
            "Requirement already satisfied: charset-normalizer<4,>=2 in /usr/local/lib/python3.10/dist-packages (from requests>=2.1.0->tldextract->scrapy) (3.3.2)\n",
            "Requirement already satisfied: urllib3<3,>=1.21.1 in /usr/local/lib/python3.10/dist-packages (from requests>=2.1.0->tldextract->scrapy) (2.0.7)\n",
            "Requirement already satisfied: certifi>=2017.4.17 in /usr/local/lib/python3.10/dist-packages (from requests>=2.1.0->tldextract->scrapy) (2024.2.2)\n",
            "Installing collected packages: PyDispatcher, incremental, zope.interface, w3lib, queuelib, protego, jmespath, itemadapter, hyperlink, cssselect, constantly, automat, Twisted, requests-file, parsel, tldextract, service-identity, itemloaders, scrapy\n",
            "Successfully installed PyDispatcher-2.0.7 Twisted-23.10.0 automat-22.10.0 constantly-23.10.4 cssselect-1.2.0 hyperlink-21.0.0 incremental-22.10.0 itemadapter-0.8.0 itemloaders-1.1.0 jmespath-1.0.1 parsel-1.8.1 protego-0.3.0 queuelib-1.6.2 requests-file-2.0.0 scrapy-2.11.1 service-identity-24.1.0 tldextract-5.1.1 w3lib-2.1.2 zope.interface-6.2\n"
          ]
        }
      ],
      "source": [
        "!pip install scrapy"
      ]
    },
    {
      "cell_type": "code",
      "execution_count": null,
      "metadata": {
        "id": "WRpmzb_7dZIW",
        "colab": {
          "base_uri": "https://localhost:8080/"
        },
        "outputId": "074a1455-c8f3-4a47-f657-bafe58a32fd7"
      },
      "outputs": [
        {
          "output_type": "stream",
          "name": "stdout",
          "text": [
            "New Scrapy project 'sabahnews', using template directory '/usr/local/lib/python3.10/dist-packages/scrapy/templates/project', created in:\n",
            "    /content/sabahnews\n",
            "\n",
            "You can start your first spider with:\n",
            "    cd sabahnews\n",
            "    scrapy genspider example example.com\n"
          ]
        }
      ],
      "source": [
        "!scrapy startproject sabahnews\n"
      ]
    },
    {
      "cell_type": "code",
      "execution_count": null,
      "metadata": {
        "colab": {
          "base_uri": "https://localhost:8080/"
        },
        "id": "gRu1cP3NdhVd",
        "outputId": "80689daa-65f1-4437-daf5-d3ae960fa9f5"
      },
      "outputs": [
        {
          "output_type": "stream",
          "name": "stdout",
          "text": [
            "/content/sabahnews/sabahnews/spiders\n"
          ]
        }
      ],
      "source": [
        "%cd sabahnews/sabahnews/spiders"
      ]
    },
    {
      "cell_type": "code",
      "execution_count": null,
      "metadata": {
        "colab": {
          "base_uri": "https://localhost:8080/"
        },
        "id": "s1izuUMmdqbz",
        "outputId": "d7e34c4b-7384-45c9-9080-205b427e0b8b"
      },
      "outputs": [
        {
          "output_type": "stream",
          "name": "stdout",
          "text": [
            "Created spider 'alsabahnews' using template 'basic' in module:\n",
            "  sabahnews.spiders.alsabahnews\n"
          ]
        }
      ],
      "source": [
        "!scrapy genspider alsabahnews https://www.assabahnews.tn/ar/"
      ]
    },
    {
      "cell_type": "code",
      "source": [
        "%%writefile alsabahnews.py\n",
        "import scrapy\n",
        "class alsabaahnews(scrapy.Spider):\n",
        "  name = \"sabahnews\"\n",
        "  start_urls=[\"https://www.assabahnews.tn/ar/\"]\n",
        "  def parse(self,response):\n",
        "    world_news=response.css('div.ltabs-item')\n",
        "    for news in world_news :\n",
        "      yield{'Title':news.css('div.item-title a::text').get(),\n",
        "            'date':news.css('div.Toplist div.created-date::text').get(),\n",
        "            'description':news.css('div.introtext::text').get()}\n"
      ],
      "metadata": {
        "colab": {
          "base_uri": "https://localhost:8080/"
        },
        "id": "Y7-nC5HLCy7J",
        "outputId": "890544ad-4367-47e0-ddfd-17b3bf7dfa58"
      },
      "execution_count": null,
      "outputs": [
        {
          "output_type": "stream",
          "name": "stdout",
          "text": [
            "Overwriting alsabahnews.py\n"
          ]
        }
      ]
    },
    {
      "cell_type": "code",
      "source": [
        "!scrapy crawl sabahnews -o data.json"
      ],
      "metadata": {
        "colab": {
          "base_uri": "https://localhost:8080/"
        },
        "id": "IrIeYuMbRfSW",
        "outputId": "704c63a9-43e7-431c-fb24-44957e764cc8"
      },
      "execution_count": null,
      "outputs": [
        {
          "output_type": "stream",
          "name": "stdout",
          "text": [
            "2024-02-18 10:46:58 [scrapy.utils.log] INFO: Scrapy 2.11.1 started (bot: sabahnews)\n",
            "2024-02-18 10:46:58 [scrapy.utils.log] INFO: Versions: lxml 4.9.4.0, libxml2 2.10.3, cssselect 1.2.0, parsel 1.8.1, w3lib 2.1.2, Twisted 23.10.0, Python 3.10.12 (main, Nov 20 2023, 15:14:05) [GCC 11.4.0], pyOpenSSL 24.0.0 (OpenSSL 3.2.1 30 Jan 2024), cryptography 42.0.2, Platform Linux-6.1.58+-x86_64-with-glibc2.35\n",
            "2024-02-18 10:46:58 [scrapy.addons] INFO: Enabled addons:\n",
            "[]\n",
            "2024-02-18 10:46:58 [asyncio] DEBUG: Using selector: EpollSelector\n",
            "2024-02-18 10:46:58 [scrapy.utils.log] DEBUG: Using reactor: twisted.internet.asyncioreactor.AsyncioSelectorReactor\n",
            "2024-02-18 10:46:58 [scrapy.utils.log] DEBUG: Using asyncio event loop: asyncio.unix_events._UnixSelectorEventLoop\n",
            "2024-02-18 10:46:58 [scrapy.extensions.telnet] INFO: Telnet Password: 20851fcfc6e9a43f\n",
            "2024-02-18 10:46:58 [scrapy.middleware] INFO: Enabled extensions:\n",
            "['scrapy.extensions.corestats.CoreStats',\n",
            " 'scrapy.extensions.telnet.TelnetConsole',\n",
            " 'scrapy.extensions.memusage.MemoryUsage',\n",
            " 'scrapy.extensions.feedexport.FeedExporter',\n",
            " 'scrapy.extensions.logstats.LogStats']\n",
            "2024-02-18 10:46:58 [scrapy.crawler] INFO: Overridden settings:\n",
            "{'BOT_NAME': 'sabahnews',\n",
            " 'FEED_EXPORT_ENCODING': 'utf-8',\n",
            " 'NEWSPIDER_MODULE': 'sabahnews.spiders',\n",
            " 'REQUEST_FINGERPRINTER_IMPLEMENTATION': '2.7',\n",
            " 'ROBOTSTXT_OBEY': True,\n",
            " 'SPIDER_MODULES': ['sabahnews.spiders'],\n",
            " 'TWISTED_REACTOR': 'twisted.internet.asyncioreactor.AsyncioSelectorReactor'}\n",
            "2024-02-18 10:46:58 [scrapy.middleware] INFO: Enabled downloader middlewares:\n",
            "['scrapy.downloadermiddlewares.robotstxt.RobotsTxtMiddleware',\n",
            " 'scrapy.downloadermiddlewares.httpauth.HttpAuthMiddleware',\n",
            " 'scrapy.downloadermiddlewares.downloadtimeout.DownloadTimeoutMiddleware',\n",
            " 'scrapy.downloadermiddlewares.defaultheaders.DefaultHeadersMiddleware',\n",
            " 'scrapy.downloadermiddlewares.useragent.UserAgentMiddleware',\n",
            " 'scrapy.downloadermiddlewares.retry.RetryMiddleware',\n",
            " 'scrapy.downloadermiddlewares.redirect.MetaRefreshMiddleware',\n",
            " 'scrapy.downloadermiddlewares.httpcompression.HttpCompressionMiddleware',\n",
            " 'scrapy.downloadermiddlewares.redirect.RedirectMiddleware',\n",
            " 'scrapy.downloadermiddlewares.cookies.CookiesMiddleware',\n",
            " 'scrapy.downloadermiddlewares.httpproxy.HttpProxyMiddleware',\n",
            " 'scrapy.downloadermiddlewares.stats.DownloaderStats']\n",
            "2024-02-18 10:46:58 [scrapy.middleware] INFO: Enabled spider middlewares:\n",
            "['scrapy.spidermiddlewares.httperror.HttpErrorMiddleware',\n",
            " 'scrapy.spidermiddlewares.offsite.OffsiteMiddleware',\n",
            " 'scrapy.spidermiddlewares.referer.RefererMiddleware',\n",
            " 'scrapy.spidermiddlewares.urllength.UrlLengthMiddleware',\n",
            " 'scrapy.spidermiddlewares.depth.DepthMiddleware']\n",
            "2024-02-18 10:46:58 [scrapy.middleware] INFO: Enabled item pipelines:\n",
            "[]\n",
            "2024-02-18 10:46:58 [scrapy.core.engine] INFO: Spider opened\n",
            "2024-02-18 10:46:58 [scrapy.extensions.logstats] INFO: Crawled 0 pages (at 0 pages/min), scraped 0 items (at 0 items/min)\n",
            "2024-02-18 10:46:58 [scrapy.extensions.telnet] INFO: Telnet console listening on 127.0.0.1:6023\n",
            "2024-02-18 10:46:59 [scrapy.core.engine] DEBUG: Crawled (200) <GET https://www.assabahnews.tn/robots.txt> (referer: None)\n",
            "2024-02-18 10:47:01 [urllib3.connectionpool] DEBUG: Starting new HTTPS connection (1): publicsuffix.org:443\n",
            "2024-02-18 10:47:01 [urllib3.connectionpool] DEBUG: https://publicsuffix.org:443 \"GET /list/public_suffix_list.dat HTTP/1.1\" 200 84471\n",
            "2024-02-18 10:47:01 [scrapy.core.engine] DEBUG: Crawled (200) <GET https://www.assabahnews.tn/ar/> (referer: None)\n",
            "2024-02-18 10:47:02 [scrapy.core.scraper] DEBUG: Scraped from <200 https://www.assabahnews.tn/ar/>\n",
            "{'Title': '\\r\\n\\t\\t\\t\\t\\t\\t\\tمفوض عام الأونروا: إسرائيل تهدف إلى تدمير المنظمة\\t\\t\\t\\t\\t\\t', 'date': '\\r\\n\\t\\t\\t\\t\\t\\tالأحد، 18 فيفري 2024 11:41\\t\\t\\t\\t\\t', 'description': '\\r\\n\\t\\t\\t\\t\\t\\tاعتبر المفوض العام لوكالة الأمم المتحدة لغوث وتشغيل اللاجئين ...\\t\\t\\t\\t\\t'}\n",
            "2024-02-18 10:47:02 [scrapy.core.scraper] DEBUG: Scraped from <200 https://www.assabahnews.tn/ar/>\n",
            "{'Title': '\\r\\n\\t\\t\\t\\t\\t\\t\\tالثلاثاء.. مجلس الأمن يُصوّت على مشروع جزائري بشأن غزة\\t\\t\\t\\t\\t\\t', 'date': '\\r\\n\\t\\t\\t\\t\\t\\tالأحد، 18 فيفري 2024 11:21\\t\\t\\t\\t\\t', 'description': '\\r\\n\\t\\t\\t\\t\\t\\t\\xa0 \\r\\n قرر مجلس الأمن الدولي التصويت على مشروع القرار الجزائري ...\\t\\t\\t\\t\\t'}\n",
            "2024-02-18 10:47:02 [scrapy.core.scraper] DEBUG: Scraped from <200 https://www.assabahnews.tn/ar/>\n",
            "{'Title': '\\r\\n\\t\\t\\t\\t\\t\\t\\tاتفاق التهدئة في قطاع غزة.. بين شروط إسرائيل ومطالب حماس\\t\\t\\t\\t\\t\\t', 'date': '\\r\\n\\t\\t\\t\\t\\t\\tالأحد، 18 فيفري 2024 10:24\\t\\t\\t\\t\\t', 'description': '\\r\\n\\t\\t\\t\\t\\t\\t\\xa0 \\r\\n \\xa0 \\r\\n \\xa0 \\r\\n لا يزال اتفاق التهدئة في قطاع غزة، ...\\t\\t\\t\\t\\t'}\n",
            "2024-02-18 10:47:02 [scrapy.core.scraper] DEBUG: Scraped from <200 https://www.assabahnews.tn/ar/>\n",
            "{'Title': '\\r\\n\\t\\t\\t\\t\\t\\t\\tلجنة الصحة تعقد جلسة استماع حول مقترح القانون الأساسي المتعلق بحقوق المرضى والمسؤولية الطبية\\t\\t\\t\\t\\t\\t', 'date': '\\r\\n\\t\\t\\t\\t\\t\\tالسبت، 17 فيفري 2024 08:19\\t\\t\\t\\t\\t', 'description': '\\r\\n\\t\\t\\t\\t\\t\\t\\xa0عقدت لجنة الصحة وشؤون المرأة والأسرة والشؤون الاجتماعية وذوي الإعاقة ...\\t\\t\\t\\t\\t'}\n",
            "2024-02-18 10:47:02 [scrapy.core.scraper] DEBUG: Scraped from <200 https://www.assabahnews.tn/ar/>\n",
            "{'Title': '\\r\\n\\t\\t\\t\\t\\t\\t\\tالبرلمان.. لجنة الحقوق والحريات تواصل النظر في أحكام مشروع قانون بطاقة التعريف الوطنية\\t\\t\\t\\t\\t\\t', 'date': '\\r\\n\\t\\t\\t\\t\\t\\tالجمعة، 16 فيفري 2024 21:55\\t\\t\\t\\t\\t', 'description': '\\r\\n\\t\\t\\t\\t\\t\\t\\xa0عقدت لجنة الحقوق والحريات اليوم الجمعة 16 فيفري 2024 جلسة بحضور ...\\t\\t\\t\\t\\t'}\n",
            "2024-02-18 10:47:02 [scrapy.core.scraper] DEBUG: Scraped from <200 https://www.assabahnews.tn/ar/>\n",
            "{'Title': '\\r\\n\\t\\t\\t\\t\\t\\t\\tقبل  التصويت على قانون تجريم التطبيع..اجتماع حاسم لحركة الشعب \\t\\t\\t\\t\\t\\t', 'date': '\\r\\n\\t\\t\\t\\t\\t\\tالجمعة، 16 فيفري 2024 11:02\\t\\t\\t\\t\\t', 'description': '\\r\\n\\t\\t\\t\\t\\t\\t\\xa0تعقد حركة الشعب الاحد القادم 25فيفري اشغال مجلسها الوطني في دورته ...\\t\\t\\t\\t\\t'}\n",
            "2024-02-18 10:47:02 [scrapy.core.scraper] DEBUG: Scraped from <200 https://www.assabahnews.tn/ar/>\n",
            "{'Title': '\\r\\n\\t\\t\\t\\t\\t\\t\\tتفاصيل قواعد وإجراءات تنظيم انتخابات مجالس الأقاليم والمجلس الوطني للجهات والأقاليم\\t\\t\\t\\t\\t\\t', 'date': '\\r\\n\\t\\t\\t\\t\\t\\tالخميس، 15 فيفري 2024 15:24\\t\\t\\t\\t\\t', 'description': '\\r\\n\\t\\t\\t\\t\\t\\tنشرت الهيئة العليا المستقلة للانتخابات القرار عدد 282 لسنة 2024 المؤرخ في ...\\t\\t\\t\\t\\t'}\n",
            "2024-02-18 10:47:02 [scrapy.core.scraper] DEBUG: Scraped from <200 https://www.assabahnews.tn/ar/>\n",
            "{'Title': '\\r\\n\\t\\t\\t\\t\\t\\t\\tلجنة الصناعة والتجارة والثروات الطبيعية والطاقة والبيئة تصادق على تقريريها حول مشروعي قانونين \\t\\t\\t\\t\\t\\t', 'date': '\\r\\n\\t\\t\\t\\t\\t\\tالخميس، 15 فيفري 2024 12:31\\t\\t\\t\\t\\t', 'description': '\\r\\n\\t\\t\\t\\t\\t\\t\\xa0\\r\\nعقدت لجنة الصناعة والتجارة والثروات الطبيعية والطاقة والبيئة جلسة ...\\t\\t\\t\\t\\t'}\n",
            "2024-02-18 10:47:02 [scrapy.core.scraper] DEBUG: Scraped from <200 https://www.assabahnews.tn/ar/>\n",
            "{'Title': '\\r\\n\\t\\t\\t\\t\\t\\t\\tالبرلمان يشرع في مناقشة مشروع قانون لإتمام القانون عدد 17 لسنة 2005 للمعادن النفيسة\\t\\t\\t\\t\\t\\t', 'date': '\\r\\n\\t\\t\\t\\t\\t\\tالأربعاء، 14 فيفري 2024 11:42\\t\\t\\t\\t\\t', 'description': '\\r\\n\\t\\t\\t\\t\\t\\t\\xa0 شرع مجلس نواب الشعب، خلال جلسة عامة،\\xa0الأربعاء، في مناقشة مشروع ...\\t\\t\\t\\t\\t'}\n",
            "2024-02-18 10:47:02 [scrapy.core.scraper] DEBUG: Scraped from <200 https://www.assabahnews.tn/ar/>\n",
            "{'Title': '\\r\\n\\t\\t\\t\\t\\t\\t\\tبورصة تونس تقفل حصة الجمعة على شبه استقرار\\t\\t\\t\\t\\t\\t', 'date': '\\r\\n\\t\\t\\t\\t\\t\\tالجمعة، 16 فيفري 2024 17:02\\t\\t\\t\\t\\t', 'description': '\\r\\n\\t\\t\\t\\t\\t\\tأقفل المؤشر المرجعي لبورصة تونس \"توننداكس\" حصّة، الجمعة، على شبه ...\\t\\t\\t\\t\\t'}\n",
            "2024-02-18 10:47:02 [scrapy.core.scraper] DEBUG: Scraped from <200 https://www.assabahnews.tn/ar/>\n",
            "{'Title': '\\r\\n\\t\\t\\t\\t\\t\\t\\tصدرت بالرائد الرسمي.. معدلات نسب الفائدة الفعلية ونسب الفائدة المشطة التي ...\\t\\t\\t\\t\\t\\t', 'date': '\\r\\n\\t\\t\\t\\t\\t\\tالخميس، 15 فيفري 2024 23:22\\t\\t\\t\\t\\t', 'description': '\\r\\n\\t\\t\\t\\t\\t\\t\\xa0 \\r\\n صدر بالعدد الأخير من الرائد الرسمي للجمهورية قرار عن وزيرة ...\\t\\t\\t\\t\\t'}\n",
            "2024-02-18 10:47:02 [scrapy.core.scraper] DEBUG: Scraped from <200 https://www.assabahnews.tn/ar/>\n",
            "{'Title': '\\r\\n\\t\\t\\t\\t\\t\\t\\t تونس حصلت على تمويلات بقيمة 92 مليون أورو من البنك الاوروبي للاستثمار في 2023\\t\\t\\t\\t\\t\\t', 'date': '\\r\\n\\t\\t\\t\\t\\t\\tالخميس، 15 فيفري 2024 20:57\\t\\t\\t\\t\\t', 'description': '\\r\\n\\t\\t\\t\\t\\t\\t\\xa0أعلن البنك الأوروبي للإستثمار من خلال البنك الأوروبي عالم فرعه ...\\t\\t\\t\\t\\t'}\n",
            "2024-02-18 10:47:02 [scrapy.core.scraper] DEBUG: Scraped from <200 https://www.assabahnews.tn/ar/>\n",
            "{'Title': '\\r\\n\\t\\t\\t\\t\\t\\t\\tتراجع عجز الميزان التجاري الطاقي بـ7 بالمائة في 2023\\t\\t\\t\\t\\t\\t', 'date': '\\r\\n\\t\\t\\t\\t\\t\\tالأربعاء، 14 فيفري 2024 17:36\\t\\t\\t\\t\\t', 'description': '\\r\\n\\t\\t\\t\\t\\t\\t\\xa0تراجع عجز الميزان التجاري الطاقي بنسبة 7 بالمائة خلال 2023 (مع ...\\t\\t\\t\\t\\t'}\n",
            "2024-02-18 10:47:02 [scrapy.core.scraper] DEBUG: Scraped from <200 https://www.assabahnews.tn/ar/>\n",
            "{'Title': '\\r\\n\\t\\t\\t\\t\\t\\t\\tمفوض عام الأونروا: إسرائيل تهدف إلى تدمير المنظمة\\t\\t\\t\\t\\t\\t', 'date': '\\r\\n\\t\\t\\t\\t\\t\\tالأحد، 18 فيفري 2024 11:41\\t\\t\\t\\t\\t', 'description': '\\r\\n\\t\\t\\t\\t\\t\\tاعتبر المفوض العام لوكالة الأمم المتحدة لغوث وتشغيل اللاجئين ...\\t\\t\\t\\t\\t'}\n",
            "2024-02-18 10:47:02 [scrapy.core.scraper] DEBUG: Scraped from <200 https://www.assabahnews.tn/ar/>\n",
            "{'Title': '\\r\\n\\t\\t\\t\\t\\t\\t\\tالثلاثاء.. مجلس الأمن يُصوّت على مشروع جزائري بشأن غزة\\t\\t\\t\\t\\t\\t', 'date': '\\r\\n\\t\\t\\t\\t\\t\\tالأحد، 18 فيفري 2024 11:21\\t\\t\\t\\t\\t', 'description': '\\r\\n\\t\\t\\t\\t\\t\\t\\xa0 \\r\\n قرر مجلس الأمن الدولي التصويت على مشروع القرار الجزائري ...\\t\\t\\t\\t\\t'}\n",
            "2024-02-18 10:47:02 [scrapy.core.scraper] DEBUG: Scraped from <200 https://www.assabahnews.tn/ar/>\n",
            "{'Title': '\\r\\n\\t\\t\\t\\t\\t\\t\\tاتفاق التهدئة في قطاع غزة.. بين شروط إسرائيل ومطالب حماس\\t\\t\\t\\t\\t\\t', 'date': '\\r\\n\\t\\t\\t\\t\\t\\tالأحد، 18 فيفري 2024 10:24\\t\\t\\t\\t\\t', 'description': '\\r\\n\\t\\t\\t\\t\\t\\t\\xa0 \\r\\n \\xa0 \\r\\n \\xa0 \\r\\n لا يزال اتفاق التهدئة في قطاع غزة، ...\\t\\t\\t\\t\\t'}\n",
            "2024-02-18 10:47:02 [scrapy.core.scraper] DEBUG: Scraped from <200 https://www.assabahnews.tn/ar/>\n",
            "{'Title': '\\r\\n\\t\\t\\t\\t\\t\\t\\tالطائرات الحربية الإسرائيلية تُنفّذ غارات على جنوب لبنان\\t\\t\\t\\t\\t\\t', 'date': '\\r\\n\\t\\t\\t\\t\\t\\tالأحد، 18 فيفري 2024 10:20\\t\\t\\t\\t\\t', 'description': '\\r\\n\\t\\t\\t\\t\\t\\t\\xa0 \\r\\n \\xa0 \\r\\n تواصل إسرائيلي غاراتها وقصفها على القرى والبلدات ...\\t\\t\\t\\t\\t'}\n",
            "2024-02-18 10:47:02 [scrapy.core.scraper] DEBUG: Scraped from <200 https://www.assabahnews.tn/ar/>\n",
            "{'Title': '\\r\\n\\t\\t\\t\\t\\t\\t\\t🔴 ماذا وراء قرار الا.حتلا.ل شن هجوم على رفح؟ ما هي رهانات نتنياهو من وراء اصراره على هذا الهجوم؟\\t\\t\\t\\t\\t\\t', 'date': '\\r\\n\\t\\t\\t\\t\\t\\tالسبت، 17 فيفري 2024 21:49\\t\\t\\t\\t\\t', 'description': None}\n",
            "2024-02-18 10:47:02 [scrapy.core.scraper] DEBUG: Scraped from <200 https://www.assabahnews.tn/ar/>\n",
            "{'Title': '\\r\\n\\t\\t\\t\\t\\t\\t\\t🔴\"شنوة الحل؟\" يطرح في حلقة جديدة موضوع ارتفاع أسعار الحج والعمرة.. الأسباب والحلول\\t\\t\\t\\t\\t\\t', 'date': '\\r\\n\\t\\t\\t\\t\\t\\tالسبت، 17 فيفري 2024 18:49\\t\\t\\t\\t\\t', 'description': None}\n",
            "2024-02-18 10:47:02 [scrapy.core.scraper] DEBUG: Scraped from <200 https://www.assabahnews.tn/ar/>\n",
            "{'Title': '\\r\\n\\t\\t\\t\\t\\t\\t\\t🔴حلقة جديدة من برنامج \"العين الثالثة \"\\t\\t\\t\\t\\t\\t', 'date': '\\r\\n\\t\\t\\t\\t\\t\\tالخميس، 15 فيفري 2024 19:52\\t\\t\\t\\t\\t', 'description': None}\n",
            "2024-02-18 10:47:02 [scrapy.core.scraper] DEBUG: Scraped from <200 https://www.assabahnews.tn/ar/>\n",
            "{'Title': '\\r\\n\\t\\t\\t\\t\\t\\t\\t🔴\"الصباح ديجيتال\" تستعرض بعض قصص الحب في حصة خاصة بـ \"عيد الحب\"\\t\\t\\t\\t\\t\\t', 'date': '\\r\\n\\t\\t\\t\\t\\t\\tالخميس، 15 فيفري 2024 08:20\\t\\t\\t\\t\\t', 'description': None}\n",
            "2024-02-18 10:47:02 [scrapy.core.scraper] DEBUG: Scraped from <200 https://www.assabahnews.tn/ar/>\n",
            "{'Title': '\\r\\n\\t\\t\\t\\t\\t\\t\\t🔴في \"الكلمة ليك\".. آراء عدد من المواطنين بمناسبة الاحتفال بعيد الحب\\t\\t\\t\\t\\t\\t', 'date': '\\r\\n\\t\\t\\t\\t\\t\\tالأربعاء، 14 فيفري 2024 15:29\\t\\t\\t\\t\\t', 'description': None}\n",
            "2024-02-18 10:47:02 [scrapy.core.scraper] DEBUG: Scraped from <200 https://www.assabahnews.tn/ar/>\n",
            "{'Title': '\\r\\n\\t\\t\\t\\t\\t\\t\\t🔴بورتريه.. تكريم خاص لوجوه غابت عن الشاشة ولم تغب من الذاكرة\\t\\t\\t\\t\\t\\t', 'date': '\\r\\n\\t\\t\\t\\t\\t\\tالأربعاء، 14 فيفري 2024 12:51\\t\\t\\t\\t\\t', 'description': None}\n",
            "2024-02-18 10:47:02 [scrapy.core.scraper] DEBUG: Scraped from <200 https://www.assabahnews.tn/ar/>\n",
            "{'Title': '\\r\\n\\t\\t\\t\\t\\t\\t\\tفيديو/رؤوف بن يغلان ل \"الصباح نيوز\":لا بد أن يواكب الفنان ...\\t\\t\\t\\t\\t\\t', 'date': '\\r\\n\\t\\t\\t\\t\\t\\tالسبت، 17 فيفري 2024 20:49\\t\\t\\t\\t\\t', 'description': '\\r\\n\\t\\t\\t\\t\\t\\tالتقت الصباح نيوز بعد ظهر اليوم على هامش حفل توقيع رواية الكميونة ...\\t\\t\\t\\t\\t'}\n",
            "2024-02-18 10:47:02 [scrapy.core.scraper] DEBUG: Scraped from <200 https://www.assabahnews.tn/ar/>\n",
            "{'Title': '\\r\\n\\t\\t\\t\\t\\t\\t\\tمجلة \"أصوات ثقافية\" مولود ثقافي إعلامي جديد صادر عن دار ...\\t\\t\\t\\t\\t\\t', 'date': '\\r\\n\\t\\t\\t\\t\\t\\tالسبت، 17 فيفري 2024 20:44\\t\\t\\t\\t\\t', 'description': '\\r\\n\\t\\t\\t\\t\\t\\t\\xa0تعزز المشهد الإعلامي الثقافي بمولود جديد صادر عن دار خريف للنشر ...\\t\\t\\t\\t\\t'}\n",
            "2024-02-18 10:47:02 [scrapy.core.scraper] DEBUG: Scraped from <200 https://www.assabahnews.tn/ar/>\n",
            "{'Title': '\\r\\n\\t\\t\\t\\t\\t\\t\\tالثلاثاء القادم  اخر اجل لتقديم الترشحات..مهرجان الاغنية ...\\t\\t\\t\\t\\t\\t', 'date': '\\r\\n\\t\\t\\t\\t\\t\\tالسبت، 17 فيفري 2024 20:41\\t\\t\\t\\t\\t', 'description': '\\r\\n\\t\\t\\t\\t\\t\\t\\xa0\\r\\n**مكافات مالية لكل المشاركين في دورة تحتفي بفلسطين\\r\\n**الغاء ...\\t\\t\\t\\t\\t'}\n",
            "2024-02-18 10:47:02 [scrapy.core.scraper] DEBUG: Scraped from <200 https://www.assabahnews.tn/ar/>\n",
            "{'Title': '\\r\\n\\t\\t\\t\\t\\t\\t\\tوزارة الثقافة تعلن فتح باب الترشح لهذه الخطط\\t\\t\\t\\t\\t\\t', 'date': '\\r\\n\\t\\t\\t\\t\\t\\tالجمعة، 30 ديسمبر 2022 14:59\\t\\t\\t\\t\\t', 'description': '\\r\\n\\t\\t\\t\\t\\t\\tأعلنت وزارة الشؤون الثقافيّة، عن فتح باب الترشح للخطط التالية: \\r\\n ...\\t\\t\\t\\t\\t'}\n",
            "2024-02-18 10:47:02 [scrapy.core.scraper] DEBUG: Scraped from <200 https://www.assabahnews.tn/ar/>\n",
            "{'Title': '\\r\\n\\t\\t\\t\\t\\t\\t\\t فتح مناظرة لانتداب رقباء أمن بسلك الأمن الوطني والشرطة.. التفاصيل \\t\\t\\t\\t\\t\\t', 'date': '\\r\\n\\t\\t\\t\\t\\t\\tالثلاثاء، 29 نوفمبر 2022 21:39\\t\\t\\t\\t\\t', 'description': '\\r\\n\\t\\t\\t\\t\\t\\tاعلنت وزارة الداخلية عن فتح مناظرة لانتداب رقباء أمن بسلك الأمن ...\\t\\t\\t\\t\\t'}\n",
            "2024-02-18 10:47:02 [scrapy.core.scraper] DEBUG: Scraped from <200 https://www.assabahnews.tn/ar/>\n",
            "{'Title': '\\r\\n\\t\\t\\t\\t\\t\\t\\tانتدابات بالصندوق الوطني للضمان الاجتماعي.. وهذه التفاصيل\\t\\t\\t\\t\\t\\t', 'date': '\\r\\n\\t\\t\\t\\t\\t\\tالجمعة، 04 نوفمبر 2022 12:52\\t\\t\\t\\t\\t', 'description': '\\r\\n\\t\\t\\t\\t\\t\\tأعلن الصندوق الوطني للضمان الاجتماعي في بلاغ صدر اليوم الجمعة، عن ...\\t\\t\\t\\t\\t'}\n",
            "2024-02-18 10:47:02 [scrapy.core.scraper] DEBUG: Scraped from <200 https://www.assabahnews.tn/ar/>\n",
            "{'Title': '\\r\\n\\t\\t\\t\\t\\t\\t\\tفتح باب الترشّحات لسدّ الشغور ببعض مراكز الشباب والطفولة.. وهذه التفاصيل\\t\\t\\t\\t\\t\\t', 'date': '\\r\\n\\t\\t\\t\\t\\t\\tالجمعة، 28 أكتوير 2022 14:10\\t\\t\\t\\t\\t', 'description': '\\r\\n\\t\\t\\t\\t\\t\\tأعلنت\\xa0وزارة الأسرة والمرأة والطفولة وكبار السنّ أنها تعتزم فتح ...\\t\\t\\t\\t\\t'}\n",
            "2024-02-18 10:47:02 [scrapy.core.scraper] DEBUG: Scraped from <200 https://www.assabahnews.tn/ar/>\n",
            "{'Title': '\\r\\n\\t\\t\\t\\t\\t\\t\\tهيئة الانتخابات تنتدب وهذه التفاصيل\\t\\t\\t\\t\\t\\t', 'date': '\\r\\n\\t\\t\\t\\t\\t\\tالأربعاء، 28 سبتمبر 2022 12:40\\t\\t\\t\\t\\t', 'description': '\\r\\n\\t\\t\\t\\t\\t\\t\\xa0 \\r\\n أعلنت الهيئة العليا المستقلة للإنتخابات عن فتح باب الترشّح ...\\t\\t\\t\\t\\t'}\n",
            "2024-02-18 10:47:02 [scrapy.core.scraper] DEBUG: Scraped from <200 https://www.assabahnews.tn/ar/>\n",
            "{'Title': '\\r\\n\\t\\t\\t\\t\\t\\t\\tوزارة الداخلية: مناظرة خارجية للقبول بمرحلة تكوين أساسي لإنتداب حفاظ أمن بالأمن ...\\t\\t\\t\\t\\t\\t', 'date': '\\r\\n\\t\\t\\t\\t\\t\\tالجمعة، 22 جويلية 2022 09:29\\t\\t\\t\\t\\t', 'description': '\\r\\n\\t\\t\\t\\t\\t\\tأفادت وزارة الداخلية أنه تقرّر فتح مناظرة خارجية بالاختبارات للقبول ...\\t\\t\\t\\t\\t'}\n",
            "2024-02-18 10:47:02 [scrapy.core.scraper] DEBUG: Scraped from <200 https://www.assabahnews.tn/ar/>\n",
            "{'Title': '\\r\\n\\t\\t\\t\\t\\t\\t\\tفتح مناظرة لانتداب ملازمين أول بسلك الحرس الوطني لسنة 2021 -2022\\t\\t\\t\\t\\t\\t', 'date': '\\r\\n\\t\\t\\t\\t\\t\\tالأربعاء، 29 جوان 2022 11:45\\t\\t\\t\\t\\t', 'description': '\\r\\n\\t\\t\\t\\t\\t\\t\\xa0تعتزم وزارة الداخلية فتح مناظرة لانتداب ملازمين أول بسلك الحرس ...\\t\\t\\t\\t\\t'}\n",
            "2024-02-18 10:47:02 [scrapy.core.scraper] DEBUG: Scraped from <200 https://www.assabahnews.tn/ar/>\n",
            "{'Title': '\\r\\n\\t\\t\\t\\t\\t\\t\\tمناظرة لانتداب عرفاء بسلك الحرس الوطني\\t\\t\\t\\t\\t\\t', 'date': '\\r\\n\\t\\t\\t\\t\\t\\tالخميس، 20 ماي 2021 09:28\\t\\t\\t\\t\\t', 'description': '\\r\\n\\t\\t\\t\\t\\t\\tتعتزم وزارة الداخلية فتح مناظرة لانتداب عرفاء بسلك الحرس الوطني لسنة ...\\t\\t\\t\\t\\t'}\n",
            "2024-02-18 10:47:02 [scrapy.core.scraper] DEBUG: Scraped from <200 https://www.assabahnews.tn/ar/>\n",
            "{'Title': '\\r\\n\\t\\t\\t\\t\\t\\t\\tبلاغ بخصوص ” مناظرات الشركة الوطنية للسكك الحديدية التونسية “\\t\\t\\t\\t\\t\\t', 'date': '\\r\\n\\t\\t\\t\\t\\t\\tالسبت، 27 مارس 2021 17:59\\t\\t\\t\\t\\t', 'description': '\\r\\n\\t\\t\\t\\t\\t\\tتعلم الشركة الوطنيّة للسّكك الحديديّة التونسيّة أنّه على إثر الإعلان ...\\t\\t\\t\\t\\t'}\n",
            "2024-02-18 10:47:02 [scrapy.core.scraper] DEBUG: Scraped from <200 https://www.assabahnews.tn/ar/>\n",
            "{'Title': '\\r\\n\\t\\t\\t\\t\\t\\t\\tسامسونغ توفر في السوق التونسية المنتج الجديد Galaxy A15\\t\\t\\t\\t\\t\\t', 'date': '\\r\\n\\t\\t\\t\\t\\t\\tالجمعة، 16 فيفري 2024 10:56\\t\\t\\t\\t\\t', 'description': '\\r\\n\\t\\t\\t\\t\\t\\t'}\n",
            "2024-02-18 10:47:02 [scrapy.core.scraper] DEBUG: Scraped from <200 https://www.assabahnews.tn/ar/>\n",
            "{'Title': '\\r\\n\\t\\t\\t\\t\\t\\t\\tاثر لقاء مع رئيس الدولة..بنك تونس العربي الدولي يتعهد بانجاز مشاريع وطنية ودعم ...\\t\\t\\t\\t\\t\\t', 'date': '\\r\\n\\t\\t\\t\\t\\t\\tالأربعاء، 14 فيفري 2024 08:24\\t\\t\\t\\t\\t', 'description': '\\r\\n\\t\\t\\t\\t\\t\\tإثر لقاء جمع رئيس الجمهورية قيس سعيد بمحمد العقربي، عضو مجلس الإدارة ...\\t\\t\\t\\t\\t'}\n",
            "2024-02-18 10:47:02 [scrapy.core.scraper] DEBUG: Scraped from <200 https://www.assabahnews.tn/ar/>\n",
            "{'Title': '\\r\\n\\t\\t\\t\\t\\t\\t\\tهل ستعود تدفقات رؤوس الأموال بقوة إلى الأسواق الناشئة؟ \\t\\t\\t\\t\\t\\t', 'date': '\\r\\n\\t\\t\\t\\t\\t\\tالثلاثاء، 13 فيفري 2024 09:55\\t\\t\\t\\t\\t', 'description': '\\r\\n\\t\\t\\t\\t\\t\\tعلى مدى العامين الماضيين، عانت الأسواق الناشئة من تقلبات كبيرة في ...\\t\\t\\t\\t\\t'}\n",
            "2024-02-18 10:47:02 [scrapy.core.scraper] DEBUG: Scraped from <200 https://www.assabahnews.tn/ar/>\n",
            "{'Title': '\\r\\n\\t\\t\\t\\t\\t\\t\\tسامسونج تحصل على ترخيص إدارة الغذاء والدواء الأمريكيّة لميّزة انقطاع التنفّس ...\\t\\t\\t\\t\\t\\t', 'date': '\\r\\n\\t\\t\\t\\t\\t\\tالإثنين، 12 فيفري 2024 13:03\\t\\t\\t\\t\\t', 'description': '\\r\\n\\t\\t\\t\\t\\t\\tحصلت الميّزة المبتكرة من سامسونج لاكتشاف “انقطاع التنفس أثناء ...\\t\\t\\t\\t\\t'}\n",
            "2024-02-18 10:47:02 [scrapy.core.engine] INFO: Closing spider (finished)\n",
            "2024-02-18 10:47:02 [scrapy.extensions.feedexport] INFO: Stored json feed (39 items) in: data.json\n",
            "2024-02-18 10:47:02 [scrapy.statscollectors] INFO: Dumping Scrapy stats:\n",
            "{'downloader/request_bytes': 451,\n",
            " 'downloader/request_count': 2,\n",
            " 'downloader/request_method_count/GET': 2,\n",
            " 'downloader/response_bytes': 39103,\n",
            " 'downloader/response_count': 2,\n",
            " 'downloader/response_status_count/200': 2,\n",
            " 'elapsed_time_seconds': 3.356718,\n",
            " 'feedexport/success_count/FileFeedStorage': 1,\n",
            " 'finish_reason': 'finished',\n",
            " 'finish_time': datetime.datetime(2024, 2, 18, 10, 47, 2, 204743, tzinfo=datetime.timezone.utc),\n",
            " 'httpcompression/response_bytes': 218370,\n",
            " 'httpcompression/response_count': 1,\n",
            " 'item_scraped_count': 39,\n",
            " 'log_count/DEBUG': 46,\n",
            " 'log_count/INFO': 11,\n",
            " 'memusage/max': 98799616,\n",
            " 'memusage/startup': 98799616,\n",
            " 'response_received_count': 2,\n",
            " 'robotstxt/request_count': 1,\n",
            " 'robotstxt/response_count': 1,\n",
            " 'robotstxt/response_status_count/200': 1,\n",
            " 'scheduler/dequeued': 1,\n",
            " 'scheduler/dequeued/memory': 1,\n",
            " 'scheduler/enqueued': 1,\n",
            " 'scheduler/enqueued/memory': 1,\n",
            " 'start_time': datetime.datetime(2024, 2, 18, 10, 46, 58, 848025, tzinfo=datetime.timezone.utc)}\n",
            "2024-02-18 10:47:02 [scrapy.core.engine] INFO: Spider closed (finished)\n"
          ]
        }
      ]
    }
  ],
  "metadata": {
    "colab": {
      "provenance": [],
      "authorship_tag": "ABX9TyNMPQ54U3LUrSFUYtV2xWp2",
      "include_colab_link": true
    },
    "kernelspec": {
      "display_name": "Python 3",
      "name": "python3"
    },
    "language_info": {
      "name": "python"
    }
  },
  "nbformat": 4,
  "nbformat_minor": 0
}